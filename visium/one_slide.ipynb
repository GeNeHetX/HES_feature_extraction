{
 "cells": [
  {
   "cell_type": "code",
   "execution_count": 1,
   "metadata": {},
   "outputs": [],
   "source": [
    "import numpy as np\n",
    "import pandas as pd\n",
    "import torch\n",
    "import openslide\n",
    "from timm.data import resolve_data_config\n",
    "from timm.data.transforms_factory import create_transform\n",
    "from torch.utils.data import DataLoader\n",
    "from tqdm import tqdm\n",
    "\n",
    "\n",
    "from dataset import Visium_HES_Dataset\n",
    "from model import load_UNI2h\n",
    "\n",
    "import os\n",
    "os.chdir('/workspaces/HES_feature_extraction')"
   ]
  },
  {
   "cell_type": "code",
   "execution_count": 2,
   "metadata": {},
   "outputs": [
    {
     "data": {
      "text/plain": [
       "device(type='cuda')"
      ]
     },
     "execution_count": 2,
     "metadata": {},
     "output_type": "execute_result"
    }
   ],
   "source": [
    "# Determine the device to run the model on (GPU or CPU)\n",
    "device = torch.device('cuda' if torch.cuda.is_available() else 'cpu')\n",
    "device"
   ]
  },
  {
   "cell_type": "markdown",
   "metadata": {},
   "source": [
    "# Load the model and its transformer"
   ]
  },
  {
   "cell_type": "code",
   "execution_count": 3,
   "metadata": {},
   "outputs": [],
   "source": [
    "# Load the UNI2 model\n",
    "model = load_UNI2h(device)\n",
    "\n",
    "# Create the transform function from the model configuration\n",
    "transform = create_transform(**resolve_data_config(model.pretrained_cfg, model=model))"
   ]
  },
  {
   "cell_type": "markdown",
   "metadata": {},
   "source": [
    "# Open the slide using openslide"
   ]
  },
  {
   "cell_type": "code",
   "execution_count": 4,
   "metadata": {},
   "outputs": [],
   "source": [
    "# Determine the slide id\n",
    "slide_id = \"Visium_FFPE_V43T08-041_A\"\n",
    "\n",
    "# Load the slide with openslide\n",
    "slide = openslide.OpenSlide(f\"data_hdd/visium/results/{slide_id}/images/annotation_images/visium_region.ome.tiff\")\n",
    "\n",
    "# Make a thumbnail of the slide\n",
    "# slide.get_thumbnail(size=(256, 256))"
   ]
  },
  {
   "cell_type": "markdown",
   "metadata": {},
   "source": [
    "# Load the pixels of the MALDI MSI image"
   ]
  },
  {
   "cell_type": "code",
   "execution_count": 5,
   "metadata": {},
   "outputs": [],
   "source": [
    "# Load the pixels of the MALDI MSI image\n",
    "coordinates = pd.read_csv(f\"data_hdd/visium/results/{slide_id}/warped_coordinates.csv\")"
   ]
  },
  {
   "cell_type": "markdown",
   "metadata": {},
   "source": [
    "# Create the dataset"
   ]
  },
  {
   "cell_type": "code",
   "execution_count": 6,
   "metadata": {},
   "outputs": [],
   "source": [
    "# Create the dataset\n",
    "dataset = Visium_HES_Dataset(slide=slide,\n",
    "                            coordinates=coordinates,\n",
    "                            transform=transform)\n",
    "\n",
    "# Create the dataloader\n",
    "dataloader = DataLoader(dataset,\n",
    "                        batch_size=256,\n",
    "                        shuffle=False)"
   ]
  },
  {
   "cell_type": "markdown",
   "metadata": {},
   "source": [
    "# Perform inference on the dataset"
   ]
  },
  {
   "cell_type": "code",
   "execution_count": 7,
   "metadata": {},
   "outputs": [
    {
     "name": "stderr",
     "output_type": "stream",
     "text": [
      "Processing batches: 100%|██████████| 20/20 [05:24<00:00, 16.24s/it]\n"
     ]
    }
   ],
   "source": [
    "# Create the embedding\n",
    "feature_emb = []\n",
    "\n",
    "# Iterate over the dataloader with tqdm\n",
    "for batch in tqdm(dataloader, desc=\"Processing batches\"):\n",
    "    \n",
    "    # Get the embedding from the model\n",
    "    with torch.inference_mode():\n",
    "        output = model(batch.to(device))\n",
    "    \n",
    "    # Append the embedding to the list\n",
    "    feature_emb.append(output.cpu().numpy())\n",
    "\n",
    "# Concatenate the embeddings\n",
    "feature_emb = np.concatenate(feature_emb)"
   ]
  },
  {
   "cell_type": "code",
   "execution_count": 8,
   "metadata": {},
   "outputs": [],
   "source": [
    "# Clean up the GPU memory\n",
    "torch.cuda.empty_cache()"
   ]
  },
  {
   "cell_type": "markdown",
   "metadata": {},
   "source": [
    "# Save the Results"
   ]
  },
  {
   "cell_type": "code",
   "execution_count": 9,
   "metadata": {},
   "outputs": [],
   "source": [
    "# Transform the embedding features into a dataframe\n",
    "feature_emb_df = pd.DataFrame(feature_emb, index=coordinates.index)\n",
    "\n",
    "# Save the embedding features to a pickle file\n",
    "feature_emb_df.to_pickle(f\"data_hdd/visium/results/{slide_id}/hes_features.pkl\")"
   ]
  }
 ],
 "metadata": {
  "kernelspec": {
   "display_name": "base",
   "language": "python",
   "name": "python3"
  },
  "language_info": {
   "codemirror_mode": {
    "name": "ipython",
    "version": 3
   },
   "file_extension": ".py",
   "mimetype": "text/x-python",
   "name": "python",
   "nbconvert_exporter": "python",
   "pygments_lexer": "ipython3",
   "version": "3.11.10"
  }
 },
 "nbformat": 4,
 "nbformat_minor": 2
}
